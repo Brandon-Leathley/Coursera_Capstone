{
 "cells": [
  {
   "cell_type": "markdown",
   "metadata": {
    "collapsed": true
   },
   "source": [
    "# My Jupyter Notebook on IBM Data Science Experience"
   ]
  },
  {
   "cell_type": "markdown",
   "metadata": {},
   "source": [
    "**Brandon Leathley**  \n",
    "Data Scientist"
   ]
  },
  {
   "cell_type": "markdown",
   "metadata": {},
   "source": [
    "*I am interested in data science because of its wide range of applications and the growing necessity in modern business to be able to thoroughly analyse large quantities of data.*"
   ]
  },
  {
   "cell_type": "markdown",
   "metadata": {},
   "source": [
    "### The code in cell 5 is very complicated, what it does is print the string 'Hello World'."
   ]
  },
  {
   "cell_type": "code",
   "execution_count": 2,
   "metadata": {},
   "outputs": [
    {
     "name": "stdout",
     "output_type": "stream",
     "text": [
      "Hello World\n"
     ]
    }
   ],
   "source": [
    "print('Hello World')"
   ]
  },
  {
   "cell_type": "markdown",
   "metadata": {},
   "source": [
    "The following link may be of interest:  \n",
    "<a href=\"https://www.youtube.com/watch?v=dQw4w9WgXcQ\">*cool link*</a>  \n",
    "~~do not click!~~\n",
    "\n",
    "Reasons to watch JoJos bizarre adventure:  \n",
    "- Style\n",
    "- Bizarreness/Creativity\n",
    "- Pasionate adaptation\n",
    "- memes\n",
    "\n",
    "\n",
    "<img src=\"data:image/jpeg;base64,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\">"
   ]
  },
  {
   "cell_type": "code",
   "execution_count": null,
   "metadata": {},
   "outputs": [],
   "source": []
  }
 ],
 "metadata": {
  "kernelspec": {
   "display_name": "Python 3.5",
   "language": "python",
   "name": "python3"
  },
  "language_info": {
   "codemirror_mode": {
    "name": "ipython",
    "version": 3
   },
   "file_extension": ".py",
   "mimetype": "text/x-python",
   "name": "python",
   "nbconvert_exporter": "python",
   "pygments_lexer": "ipython3",
   "version": "3.5.5"
  }
 },
 "nbformat": 4,
 "nbformat_minor": 1
}
